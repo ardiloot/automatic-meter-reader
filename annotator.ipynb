{
 "cells": [
  {
   "cell_type": "code",
   "execution_count": 1,
   "id": "southwest-filename",
   "metadata": {},
   "outputs": [],
   "source": [
    "%load_ext autoreload\n",
    "%autoreload 2\n",
    "%matplotlib widget\n",
    "\n",
    "import cv2\n",
    "import os\n",
    "import numpy as np\n",
    "from time import time\n",
    "from matplotlib import pyplot as plt\n",
    "import matplotlib.patches as patches\n",
    "\n",
    "from automatic_meter_reader import AutomaticMeterReader"
   ]
  },
  {
   "cell_type": "markdown",
   "id": "constitutional-eugene",
   "metadata": {},
   "source": [
    "# Parameters"
   ]
  },
  {
   "cell_type": "code",
   "execution_count": 2,
   "id": "genetic-czech",
   "metadata": {},
   "outputs": [
    {
     "output_type": "stream",
     "name": "stdout",
     "text": [
      "1\n"
     ]
    }
   ],
   "source": [
    "camera_model = \"espcam_120_deg\"\n",
    "meter_model = \"wehrle\"\n",
    "images_dir = os.path.join(\"raw_images\", \"cold_water_meter\")\n",
    "cur_image_nr = 0\n",
    "ur = AutomaticMeterReader(camera_model, meter_model)\n",
    "filenames = [os.path.join(images_dir, fn) for fn in sorted(os.listdir(images_dir)) if fn > \"cold_water_meter_20210128_194006.jpg\" and \"debug\" not in fn]\n",
    "print(len(filenames))"
   ]
  },
  {
   "cell_type": "markdown",
   "id": "social-reserve",
   "metadata": {},
   "source": [
    "# Annotate number of digits"
   ]
  },
  {
   "cell_type": "code",
   "execution_count": 3,
   "id": "antique-parallel",
   "metadata": {},
   "outputs": [
    {
     "output_type": "display_data",
     "data": {
      "text/plain": "Canvas(toolbar=Toolbar(toolitems=[('Home', 'Reset original view', 'home', 'home'), ('Back', 'Back to previous …",
      "application/vnd.jupyter.widget-view+json": {
       "version_major": 2,
       "version_minor": 0,
       "model_id": "88c3cd1b901848e09c9f30bc24ee04f3"
      }
     },
     "metadata": {}
    }
   ],
   "source": [
    "def redraw():\n",
    "    for ax in [ax1, ax2]:\n",
    "        ax.clear()\n",
    "        ax.axis(\"off\")\n",
    "    \n",
    "    fig.suptitle(\"%s %d/%d\" % (os.path.basename(filenames[cur_image_nr]), cur_image_nr + 1, len(filenames)))\n",
    "    if last_img is not None:\n",
    "        ax1.imshow(cv2.cvtColor(last_img, cv2.COLOR_BGR2RGB))\n",
    "    ax2.imshow(cv2.cvtColor(ur.img_debug, cv2.COLOR_BGR2RGB))\n",
    "    \n",
    "    for i, digit_conf in enumerate(ur.meter_config[\"register\"][\"digits\"]):\n",
    "        x0, y0, dx, dy = digit_conf[\"roi\"]\n",
    "        color = 'r' if i not in active_digits else 'g'\n",
    "        ax2.add_patch(patches.Rectangle((x0 - 0.5, y0 - 0.5), dx, dy, linewidth=2.0, ls=\"-\", edgecolor=color, alpha=1.0, facecolor='none'))\n",
    "\n",
    "def load_image():\n",
    "    global last_img\n",
    "    global active_digits\n",
    "    active_digits = []\n",
    "    last_img = ur.img_debug\n",
    "    log.append(\"load image %d %s\" % (cur_image_nr, filenames[cur_image_nr]))\n",
    "    img = cv2.imread(filenames[cur_image_nr])\n",
    "    ur.readout(img)\n",
    "    redraw()\n",
    "    \n",
    "def annotate():\n",
    "    log.append(\"annotate %s: %s\" % (filenames[cur_image_nr], active_digits))\n",
    "    for digit_nr in active_digits:\n",
    "        digit_img = ur.digit_imgs[digit_nr]\n",
    "        out_file = os.path.join(out_folder, \"%d_%s\" % (digit_nr, os.path.basename(filenames[cur_image_nr])))\n",
    "        log.append(\"save digit file %s\" % (out_file))\n",
    "        cv2.imwrite(out_file, digit_img)\n",
    "    s\n",
    "def key_press_event(event):\n",
    "    global cur_image_nr, active_digits\n",
    "    log.append(\"onclick %s\" % (event.key))\n",
    "    if event.key == \"right\" and cur_image_nr + 1 < len(filenames):\n",
    "        cur_image_nr += 1\n",
    "        load_image()\n",
    "    elif event.key == \"left\" and cur_image_nr > 0:\n",
    "        cur_image_nr -= 1\n",
    "        load_image()\n",
    "    elif event.key in [\"1\", \"2\", \"3\", \"4\", \"5\", \"6\", \"7\", \"8\"]:\n",
    "        digit_nr = int(event.key) - 1\n",
    "        if digit_nr in active_digits:\n",
    "            active_digits.remove(digit_nr)\n",
    "        else:\n",
    "            active_digits.append(digit_nr)\n",
    "        redraw()\n",
    "    elif event.key == \"enter\":\n",
    "        annotate()\n",
    "        cur_image_nr += 1\n",
    "        load_image()\n",
    "    elif event.key == \"escape\":\n",
    "        active_digits = []\n",
    "    log.append(\"onclick %s done\" % (event.key))\n",
    "    \n",
    "out_folder =\"digits_to_annotate\"\n",
    "if not os.path.isdir(out_folder):\n",
    "    os.mkdir(out_folder)\n",
    "active_digits = []\n",
    "last_img = None\n",
    "log = []\n",
    "fig, (ax1, ax2) = plt.subplots(1, 2, figsize=(12, 4))\n",
    "cid = fig.canvas.mpl_connect('key_press_event', key_press_event)\n",
    "load_image()"
   ]
  },
  {
   "cell_type": "code",
   "execution_count": 4,
   "id": "desperate-marketplace",
   "metadata": {},
   "outputs": [
    {
     "output_type": "stream",
     "name": "stdout",
     "text": [
      "load image 0 raw_images\\cold_water_meter\\cold_water_meter_20210208_224659.jpg\n"
     ]
    }
   ],
   "source": [
    "print(\"\\n\".join(log))"
   ]
  },
  {
   "cell_type": "code",
   "execution_count": null,
   "id": "choice-limit",
   "metadata": {},
   "outputs": [],
   "source": []
  }
 ],
 "metadata": {
  "kernelspec": {
   "display_name": "Python 3",
   "language": "python",
   "name": "python3"
  },
  "language_info": {
   "codemirror_mode": {
    "name": "ipython",
    "version": 3
   },
   "file_extension": ".py",
   "mimetype": "text/x-python",
   "name": "python",
   "nbconvert_exporter": "python",
   "pygments_lexer": "ipython3",
   "version": "3.8.5-final"
  }
 },
 "nbformat": 4,
 "nbformat_minor": 5
}