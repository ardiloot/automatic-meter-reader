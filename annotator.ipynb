{
 "cells": [
  {
   "cell_type": "code",
   "execution_count": null,
   "id": "productive-barrier",
   "metadata": {},
   "outputs": [],
   "source": [
    "%load_ext autoreload\n",
    "%autoreload 2\n",
    "%matplotlib widget\n",
    "\n",
    "import cv2\n",
    "import os\n",
    "import numpy as np\n",
    "import pandas as pd\n",
    "from time import time\n",
    "from matplotlib import pyplot as plt\n",
    "import matplotlib.patches as patches\n",
    "from scipy import signal\n",
    "\n",
    "from automatic_meter_reader import AutomaticMeterReader"
   ]
  },
  {
   "cell_type": "markdown",
   "id": "changing-processing",
   "metadata": {},
   "source": [
    "# Parameters"
   ]
  },
  {
   "cell_type": "code",
   "execution_count": null,
   "id": "continuing-burton",
   "metadata": {},
   "outputs": [],
   "source": [
    "camera_model = \"espcam_120_deg\"\n",
    "meter_models = {\n",
    "    \"water_meter\": \"lorenz_1997\",\n",
    "    \"cold_water_meter\": \"wehrle_cold\",\n",
    "    \"hot_water_meter\": \"wehrle_hot\",\n",
    "    \"gas_meter\": \"gas_bk25\",\n",
    "}\n",
    "\n",
    "meter_name = \"water_meter\"\n",
    "meter_model = meter_models[meter_name]\n",
    "\n",
    "images_dir = os.path.join(\"raw_images\", meter_name)\n",
    "ur = AutomaticMeterReader(camera_model, meter_model)\n",
    "input_filenames = [os.path.join(images_dir, fn) for fn in sorted(os.listdir(images_dir)) if \"debug\" not in fn]  # if fn > \"cold_water_meter_20210308_203742.jpg\"\n",
    "print(len(input_filenames))\n",
    "\n",
    "cur_image_nr = 0"
   ]
  },
  {
   "cell_type": "markdown",
   "id": "proper-canadian",
   "metadata": {},
   "source": [
    "# Find uncertain predictions"
   ]
  },
  {
   "cell_type": "code",
   "execution_count": null,
   "id": "virgin-reputation",
   "metadata": {},
   "outputs": [],
   "source": [
    "data = []\n",
    "for i, fn in enumerate(input_filenames):\n",
    "    if i % 10 != 0:\n",
    "        continue\n",
    "    img = cv2.imread(fn)\n",
    "    ur.readout(img)\n",
    "    min_confidence_index = np.argmin(ur.confidences[:-1]) # Ignore last digit\n",
    "    min_confidence = ur.confidences[min_confidence_index]\n",
    "    print(i, min_confidence_index, min_confidence, ur.measurement, fn)\n",
    "    \n",
    "    data.append({\n",
    "        \"filename\": fn,\n",
    "        \"min_confidence\": min_confidence,\n",
    "        \"measurement\": ur.measurement or np.NaN\n",
    "    })\n",
    "data = pd.DataFrame(data)"
   ]
  },
  {
   "cell_type": "code",
   "execution_count": null,
   "id": "sufficient-rebound",
   "metadata": {},
   "outputs": [],
   "source": [
    "data[\"true_measurement\"] = signal.medfilt(data[\"measurement\"], 31)\n",
    "data[\"diff\"] = data[\"measurement\"] - data[\"true_measurement\"]\n",
    "data"
   ]
  },
  {
   "cell_type": "code",
   "execution_count": null,
   "id": "enabling-canvas",
   "metadata": {},
   "outputs": [],
   "source": [
    "plt.figure()\n",
    "#plt.plot(data[\"measurement\"], label=\"raw\")\n",
    "#plt.plot(data[\"true_measurement\"], label=\"filtered\")\n",
    "plt.plot(data[\"diff\"].iloc[250:-250], label=\"diff\")\n",
    "\n",
    "plt.legend()"
   ]
  },
  {
   "cell_type": "code",
   "execution_count": null,
   "id": "fixed-arthur",
   "metadata": {},
   "outputs": [],
   "source": [
    "# (data[\"diff\"].abs() > 0.01)\n",
    "df_filtered = data[(data[\"min_confidence\"] < 0.98) & (data.index > 250) & (data.index < len(data) - 250)]\n",
    "filenames = list(df_filtered[\"filename\"])\n",
    "df_filtered"
   ]
  },
  {
   "cell_type": "markdown",
   "id": "further-estate",
   "metadata": {},
   "source": [
    "# Annotate number of digits"
   ]
  },
  {
   "cell_type": "code",
   "execution_count": null,
   "id": "integrated-turkey",
   "metadata": {},
   "outputs": [],
   "source": [
    "def redraw():\n",
    "    for ax in [ax1, ax2]:\n",
    "        ax.clear()\n",
    "        ax.axis(\"off\")\n",
    "    \n",
    "    fig.suptitle(\"%s %d/%d (%.3f m3)\" % (os.path.basename(filenames[cur_image_nr]), cur_image_nr + 1, len(filenames), ur.measurement or -1))\n",
    "    if last_img is not None:\n",
    "        ax1.imshow(cv2.cvtColor(last_img, cv2.COLOR_BGR2RGB))\n",
    "    ax2.imshow(cv2.cvtColor(ur.img_debug, cv2.COLOR_BGR2RGB))\n",
    "    \n",
    "    for i, digit_conf in enumerate(ur.meter_config[\"register\"][\"digits\"]):\n",
    "        x0, y0, dx, dy = digit_conf[\"roi\"]\n",
    "        color = 'r' if i not in active_digits else 'g'\n",
    "        ax2.add_patch(patches.Rectangle((x0 - 0.5, y0 - 0.5), dx, dy, linewidth=2.0, ls=\"-\", edgecolor=color, alpha=1.0, facecolor='none'))\n",
    "\n",
    "def load_image():\n",
    "    global last_img\n",
    "    global active_digits\n",
    "    active_digits = []\n",
    "    last_img = ur.img_debug\n",
    "    log.append(\"load image %d %s\" % (cur_image_nr, filenames[cur_image_nr]))\n",
    "    img = cv2.imread(filenames[cur_image_nr])\n",
    "    ur.readout(img)\n",
    "    redraw()\n",
    "    \n",
    "def annotate():\n",
    "    log.append(\"annotate %s: %s\" % (filenames[cur_image_nr], active_digits))\n",
    "    for digit_nr in active_digits:\n",
    "        digit_img = ur.digit_imgs[digit_nr]\n",
    "        out_file = os.path.join(out_folder, \"%d_%s\" % (digit_nr, os.path.basename(filenames[cur_image_nr])))\n",
    "        log.append(\"save digit file %s\" % (out_file))\n",
    "        cv2.imwrite(out_file, digit_img)\n",
    "    \n",
    "def key_press_event(event):\n",
    "    global cur_image_nr, active_digits\n",
    "    log.append(\"onclick %s\" % (event.key))\n",
    "    if event.key == \"right\" and cur_image_nr + 1 < len(filenames):\n",
    "        cur_image_nr += 1\n",
    "        load_image()\n",
    "    elif event.key == \"left\" and cur_image_nr > 0:\n",
    "        cur_image_nr -= 1\n",
    "        load_image()\n",
    "    elif event.key in [\"1\", \"2\", \"3\", \"4\", \"5\", \"6\", \"7\", \"8\"]:\n",
    "        digit_nr = int(event.key) - 1\n",
    "        if digit_nr in active_digits:\n",
    "            active_digits.remove(digit_nr)\n",
    "        else:\n",
    "            active_digits.append(digit_nr)\n",
    "        redraw()\n",
    "    elif event.key == \"enter\":\n",
    "        annotate()\n",
    "        cur_image_nr += 1\n",
    "        load_image()\n",
    "    elif event.key == \"escape\":\n",
    "        active_digits = []\n",
    "    log.append(\"onclick %s done\" % (event.key))\n",
    "    \n",
    "out_folder =\"digits_to_annotate\"\n",
    "if not os.path.isdir(out_folder):\n",
    "    os.mkdir(out_folder)\n",
    "active_digits = []\n",
    "last_img = None\n",
    "log = []\n",
    "fig, (ax1, ax2) = plt.subplots(1, 2, figsize=(9, 4))\n",
    "cid = fig.canvas.mpl_connect('key_press_event', key_press_event)\n",
    "load_image()"
   ]
  },
  {
   "cell_type": "code",
   "execution_count": null,
   "id": "naughty-overhead",
   "metadata": {
    "tags": [
     "outputPrepend"
    ]
   },
   "outputs": [],
   "source": [
    "### print(\"\\n\".join(log))"
   ]
  },
  {
   "cell_type": "code",
   "execution_count": null,
   "id": "alpine-kansas",
   "metadata": {},
   "outputs": [],
   "source": []
  },
  {
   "cell_type": "code",
   "execution_count": null,
   "id": "reliable-badge",
   "metadata": {},
   "outputs": [],
   "source": []
  }
 ],
 "metadata": {
  "kernelspec": {
   "display_name": "Python 3",
   "language": "python",
   "name": "python3"
  },
  "language_info": {
   "codemirror_mode": {
    "name": "ipython",
    "version": 3
   },
   "file_extension": ".py",
   "mimetype": "text/x-python",
   "name": "python",
   "nbconvert_exporter": "python",
   "pygments_lexer": "ipython3",
   "version": "3.8.8"
  }
 },
 "nbformat": 4,
 "nbformat_minor": 5
}
