{
 "cells": [
  {
   "cell_type": "code",
   "execution_count": 1,
   "id": "numerical-appraisal",
   "metadata": {},
   "outputs": [],
   "source": [
    "%matplotlib widget\n",
    "import cv2\n",
    "import os\n",
    "import json\n",
    "import numpy as np\n",
    "from matplotlib import pyplot as plt\n",
    "import matplotlib.patches as patches"
   ]
  },
  {
   "cell_type": "markdown",
   "id": "amber-cheat",
   "metadata": {},
   "source": [
    "## Manually rotate and crop image (\"horizon\" correction)"
   ]
  },
  {
   "cell_type": "code",
   "execution_count": 5,
   "id": "foster-yugoslavia",
   "metadata": {},
   "outputs": [
    {
     "name": "stdout",
     "output_type": "stream",
     "text": [
      "pre_crop (96, 150, 608, 240)\n"
     ]
    },
    {
     "data": {
      "application/vnd.jupyter.widget-view+json": {
       "model_id": "7823bbaf4d7748498753ea29481c38bf",
       "version_major": 2,
       "version_minor": 0
      },
      "text/plain": [
       "Canvas(toolbar=Toolbar(toolitems=[('Home', 'Reset original view', 'home', 'home'), ('Back', 'Back to previous …"
      ]
     },
     "metadata": {},
     "output_type": "display_data"
    }
   ],
   "source": [
    "meter_model = \"gas_bk25\"\n",
    "camera_model = \"espcam_120_deg\"\n",
    "\n",
    "meter_model_path = os.path.join(\"automatic_meter_reader\", \"meter_models\", meter_model)\n",
    "if not os.path.isdir(meter_model_path):\n",
    "    os.mkdir(meter_model_path)\n",
    "\n",
    "img_file = r\"raw_images\\gas_meter\\gas_meter_20210323_232407.jpg\"\n",
    "horizont_y = 142\n",
    "pre_rotation_angle_deg = 90\n",
    "pre_crop_percent = (0.12, 0.25, 0.76, 0.4)\n",
    "\n",
    "#horizont_y = 220\n",
    "#pre_rotation_angle_deg = 0.0\n",
    "#pre_crop_percent = (0.0, 0.0, 1.0, 1.0)\n",
    "\n",
    "def rotate_image(image, angle):\n",
    "    image_center = tuple((np.array(image.shape[1::-1]) - 1.0) / 2)\n",
    "    rot_mat = cv2.getRotationMatrix2D(image_center, angle, 1.0)\n",
    "    result = cv2.warpAffine(image, rot_mat, image.shape[1::-1], flags=cv2.INTER_LINEAR)\n",
    "    return result\n",
    "\n",
    "with open(os.path.join(\"automatic_meter_reader\", \"cameras\", \"%s.json\" % (camera_model)), \"r\") as f:\n",
    "    camcalib = json.load(f)\n",
    "camera_matrix = np.resize(np.array(camcalib[\"camera_matrix\"]), (3, 3))\n",
    "distortion_coefs = np.resize(np.array(camcalib[\"distortion_coefs\"]), (1, len(camcalib[\"distortion_coefs\"])))\n",
    "new_camera_matrix = np.resize(np.array(camcalib[\"new_camera_matrix\"]), (3, 3))\n",
    "\n",
    "img = cv2.imread(img_file)\n",
    "img = cv2.undistort(img, camera_matrix, distortion_coefs, None, new_camera_matrix)\n",
    "img = rotate_image(img, pre_rotation_angle_deg)\n",
    "\n",
    "px0, py0, pdx, pdy = pre_crop_percent\n",
    "pre_crop = int(px0 * img.shape[1]), int(py0 * img.shape[0]), int(pdx * img.shape[1]), int(pdy * img.shape[0])\n",
    "print(\"pre_crop\", pre_crop)\n",
    "x0, y0, dx, dy = pre_crop\n",
    "img = img[y0:y0 + dy, x0:x0 + dx]\n",
    "\n",
    "plt.figure(figsize=(10, 8))\n",
    "plt.imshow(cv2.cvtColor(img, cv2.COLOR_BGR2RGB))\n",
    "#plt.gca().add_patch(patches.Rectangle((x0 - 0.5, y0 - 0.5), dx, dy, linewidth=1.0, ls=\"-\", edgecolor='r', alpha=0.5, facecolor='none'))\n",
    "plt.axhline(horizont_y, lw=0.5, ls=\"--\", c=\"r\")\n",
    "plt.tight_layout();"
   ]
  },
  {
   "cell_type": "markdown",
   "id": "altered-brand",
   "metadata": {},
   "source": [
    "# Define templates, register and dial ROIs"
   ]
  },
  {
   "cell_type": "code",
   "execution_count": 19,
   "id": "endangered-sheriff",
   "metadata": {},
   "outputs": [
    {
     "data": {
      "text/plain": [
       "''"
      ]
     },
     "execution_count": 19,
     "metadata": {},
     "output_type": "execute_result"
    }
   ],
   "source": [
    "# Templates ROIs\n",
    "\n",
    "\n",
    "# gas_bk25\n",
    "template_rois = [\n",
    "    #(641 - 96, 238 - 150, 45, 45), # m3\n",
    "    (338, 45, 100, 25),\n",
    "    (127 - 96, 300 - 150, 85, 35), # Elster\n",
    "    (444 - 96, 300 - 150, 95, 35), # Mainz\n",
    "]\n",
    "\n",
    "# Digits\n",
    "register_roi = (168 - 96, 235 - 150, 357, 50)\n",
    "num_digits = 7\n",
    "digit_width = 35\n",
    "digits_num_integers = 5\n",
    "\n",
    "\"\"\"\n",
    "# wehrle_cold\n",
    "template_rois = [\n",
    "    (666, 185, 55, 45), # m3\n",
    "    (35, 280, 75, 81), # Logo\n",
    "    #(340, 380, 160, 170), # Wheel\n",
    "    (258, 310, 25, 50),\n",
    "]\n",
    "\n",
    "# Digits\n",
    "register_roi = (135, 106, 466, 72)\n",
    "num_digits = 8\n",
    "digit_width = 44\n",
    "digits_num_integers = 5\n",
    "\"\"\"\n",
    "\n",
    "\"\"\"\n",
    "# hot\n",
    "template_rois = [\n",
    "    (675, 230, 55, 45), # m3\n",
    "    (46, 320, 74, 82), # Logo\n",
    "    #(340, 380, 160, 170), # Wheel\n",
    "    (262, 350, 28, 50),\n",
    "]\n",
    "\n",
    "# Digits\n",
    "register_roi = (154, 150, 450, 71)\n",
    "num_digits = 8\n",
    "digit_width = 42\n",
    "digits_num_integers = 5\n",
    "\"\"\"\n",
    ";"
   ]
  },
  {
   "cell_type": "markdown",
   "id": "stylish-efficiency",
   "metadata": {},
   "source": [
    "## Generate config"
   ]
  },
  {
   "cell_type": "code",
   "execution_count": 20,
   "id": "minor-compiler",
   "metadata": {},
   "outputs": [],
   "source": [
    "config = {\n",
    "    \"name\": meter_model,\n",
    "    \"templates\": [],\n",
    "    \"pre_rotation_angle_deg\": pre_rotation_angle_deg,\n",
    "    \"pre_crop\": list(pre_crop),\n",
    "    \"register\": {\"digits\": [] },\n",
    "}\n",
    "\n",
    "for i, (x0, y0, dx, dy) in enumerate(template_rois):\n",
    "    template_img = img[y0:y0+dy, x0:x0+dx]\n",
    "    template_img_file = \"template_%d.jpg\" % (i)\n",
    "    cv2.imwrite(os.path.join(meter_model_path, template_img_file), template_img)\n",
    "    config[\"templates\"].append({\n",
    "        \"roi\": [x0, y0, dx, dy],\n",
    "        \"file\": template_img_file,\n",
    "    })\n",
    "\n",
    "x0, y0, dx, dy = register_roi\n",
    "config[\"register\"][\"roi\"] = list(register_roi)\n",
    "for i in range(num_digits):\n",
    "    spacing_x = (dx - num_digits * digit_width) / (num_digits - 1)\n",
    "    nx0 = int(x0 + i * (digit_width + spacing_x))\n",
    "    config[\"register\"][\"digits\"].append({\n",
    "        \"roi\": [nx0, y0, digit_width, dy],\n",
    "        \"multiplier\": 10.0 ** (digits_num_integers - i - 1)\n",
    "    })"
   ]
  },
  {
   "cell_type": "markdown",
   "id": "weird-implement",
   "metadata": {},
   "source": [
    "## Visualize"
   ]
  },
  {
   "cell_type": "code",
   "execution_count": 21,
   "id": "associate-simon",
   "metadata": {},
   "outputs": [
    {
     "data": {
      "application/vnd.jupyter.widget-view+json": {
       "model_id": "8c3132797fb64f70a831f4c5fb821e46",
       "version_major": 2,
       "version_minor": 0
      },
      "text/plain": [
       "Canvas(toolbar=Toolbar(toolitems=[('Home', 'Reset original view', 'home', 'home'), ('Back', 'Back to previous …"
      ]
     },
     "metadata": {},
     "output_type": "display_data"
    }
   ],
   "source": [
    "plt.figure(figsize=(10, 8))\n",
    "plt.imshow(cv2.cvtColor(img, cv2.COLOR_BGR2RGB))\n",
    "\n",
    "# Templates\n",
    "for template_conf in config[\"templates\"]:\n",
    "    x0, y0, dx, dy = template_conf[\"roi\"]\n",
    "    template_img = img[y0:y0+dy, x0:x0+dx]\n",
    "    plt.gca().add_patch(patches.Rectangle((x0 - 0.5, y0 - 0.5), dx, dy, linewidth=1.0, ls=\"-\", edgecolor=\"b\", alpha=1.0, facecolor=\"none\"))\n",
    "    \n",
    "# Register\n",
    "x0, y0, dx, dy = config[\"register\"][\"roi\"]\n",
    "plt.gca().add_patch(patches.Rectangle((x0 - 0.5, y0 - 0.5), dx, dy, linewidth=1.0, ls=\"-\", edgecolor='r', alpha=0.5, facecolor='none'))\n",
    "for digit_conf in config[\"register\"][\"digits\"]:\n",
    "    x0, y0, dx, dy = digit_conf[\"roi\"]\n",
    "    plt.gca().add_patch(patches.Rectangle((x0 - 0.5, y0 - 0.5), dx, dy, linewidth=0.5, ls=\"--\", edgecolor='r', alpha=1.0, facecolor='none'))\n",
    "plt.tight_layout()"
   ]
  },
  {
   "cell_type": "markdown",
   "id": "sufficient-supplement",
   "metadata": {},
   "source": [
    "# Save config"
   ]
  },
  {
   "cell_type": "code",
   "execution_count": 22,
   "id": "functional-prayer",
   "metadata": {},
   "outputs": [
    {
     "name": "stdout",
     "output_type": "stream",
     "text": [
      "D:\\OneDrive\\Minu\\Github\\automatic-meter-reader\\automatic_meter_reader\\meter_models\\gas_bk25\n"
     ]
    }
   ],
   "source": [
    "print(os.path.abspath(meter_model_path))\n",
    "with open(os.path.join(meter_model_path, \"meter_config.json\"), \"w\") as f:\n",
    "    json.dump(config, f, indent=4)"
   ]
  },
  {
   "cell_type": "code",
   "execution_count": null,
   "id": "tutorial-sheffield",
   "metadata": {},
   "outputs": [],
   "source": []
  },
  {
   "cell_type": "code",
   "execution_count": null,
   "id": "younger-console",
   "metadata": {},
   "outputs": [],
   "source": []
  }
 ],
 "metadata": {
  "kernelspec": {
   "display_name": "Python 3",
   "language": "python",
   "name": "python3"
  },
  "language_info": {
   "codemirror_mode": {
    "name": "ipython",
    "version": 3
   },
   "file_extension": ".py",
   "mimetype": "text/x-python",
   "name": "python",
   "nbconvert_exporter": "python",
   "pygments_lexer": "ipython3",
   "version": "3.8.8"
  }
 },
 "nbformat": 4,
 "nbformat_minor": 5
}
