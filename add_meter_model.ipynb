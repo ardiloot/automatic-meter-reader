{
 "cells": [
  {
   "cell_type": "code",
   "execution_count": 1,
   "id": "secure-external",
   "metadata": {},
   "outputs": [],
   "source": [
    "%matplotlib widget\n",
    "import cv2\n",
    "import os\n",
    "import json\n",
    "import numpy as np\n",
    "from matplotlib import pyplot as plt\n",
    "import matplotlib.patches as patches"
   ]
  },
  {
   "cell_type": "markdown",
   "id": "broad-alert",
   "metadata": {},
   "source": [
    "## Manually rotate image (\"horizon\" correction)"
   ]
  },
  {
   "cell_type": "code",
   "execution_count": 5,
   "id": "dominant-clinic",
   "metadata": {},
   "outputs": [
    {
     "data": {
      "application/vnd.jupyter.widget-view+json": {
       "model_id": "e985bef51ea643489abd0fd5fda0cd7b",
       "version_major": 2,
       "version_minor": 0
      },
      "text/plain": [
       "Canvas(toolbar=Toolbar(toolitems=[('Home', 'Reset original view', 'home', 'home'), ('Back', 'Back to previous …"
      ]
     },
     "metadata": {},
     "output_type": "display_data"
    }
   ],
   "source": [
    "meter_model = \"wehrle_cold\"\n",
    "camera_model = \"espcam_120_deg\"\n",
    "\n",
    "meter_model_path = os.path.join(\"automatic_meter_reader\", \"meter_models\", meter_model)\n",
    "if not os.path.isdir(meter_model_path):\n",
    "    os.mkdir(meter_model_path)\n",
    "\n",
    "img_file = r\"raw_images\\cold_water_meter\\cold_water_meter_20210224_205221.jpg\"\n",
    "rotation_angle_deg = -1.3\n",
    "\n",
    "def rotate_image(image, angle):\n",
    "    image_center = tuple((np.array(image.shape[1::-1]) - 1.0) / 2)\n",
    "    rot_mat = cv2.getRotationMatrix2D(image_center, angle, 1.0)\n",
    "    result = cv2.warpAffine(image, rot_mat, image.shape[1::-1], flags=cv2.INTER_LINEAR)\n",
    "    return result\n",
    "\n",
    "with open(os.path.join(\"automatic_meter_reader\", \"cameras\", \"%s.json\" % (camera_model)), \"r\") as f:\n",
    "    camcalib = json.load(f)\n",
    "camera_matrix = np.resize(np.array(camcalib[\"camera_matrix\"]), (3, 3))\n",
    "distortion_coefs = np.resize(np.array(camcalib[\"distortion_coefs\"]), (1, -1))\n",
    "new_camera_matrix = np.resize(np.array(camcalib[\"new_camera_matrix\"]), (3, 3))\n",
    "\n",
    "img = cv2.imread(img_file)\n",
    "img = cv2.undistort(img, camera_matrix, distortion_coefs, None, new_camera_matrix)\n",
    "img = rotate_image(img, rotation_angle_deg)\n",
    "\n",
    "plt.figure(figsize=(6, 4))\n",
    "plt.imshow(cv2.cvtColor(img, cv2.COLOR_BGR2RGB))\n",
    "plt.axhline(204, lw=0.5, ls=\"--\", c=\"r\")\n",
    "plt.tight_layout();"
   ]
  },
  {
   "cell_type": "markdown",
   "id": "corresponding-geology",
   "metadata": {},
   "source": [
    "# Define templates, register and dial ROIs"
   ]
  },
  {
   "cell_type": "code",
   "execution_count": 48,
   "id": "seasonal-connection",
   "metadata": {},
   "outputs": [
    {
     "data": {
      "text/plain": [
       "'\\ntemplate_rois = [\\n    (685, 230, 55, 45), # m3\\n    (64, 330, 60, 70), # Logo\\n    #(340, 380, 160, 170), # Wheel\\n    (270, 355, 25, 50),\\n]\\n\\n# Digits\\nregister_roi = (164, 157, 450, 71)\\nnum_digits = 8\\ndigit_width = 40\\ndigits_num_commas = 3\\ndigits_num_integers = 4\\n'"
      ]
     },
     "execution_count": 48,
     "metadata": {},
     "output_type": "execute_result"
    }
   ],
   "source": [
    "# Templates ROIs\n",
    "\n",
    "template_rois = [\n",
    "    (655, 206, 45, 38), # m3\n",
    "    (129, 289, 60, 60), # Logo\n",
    "    (363, 350, 150, 150), # Wheel\n",
    "    #(280, 330, 30, 50),\n",
    "]\n",
    "\n",
    "# Digits\n",
    "register_roi = (212, 140, 600 - 210, 60)\n",
    "num_digits = 8\n",
    "digit_width = 38\n",
    "digits_num_commas = 3\n",
    "digits_num_integers = 4\n",
    "\n",
    "\"\"\"\n",
    "template_rois = [\n",
    "    (685, 230, 55, 45), # m3\n",
    "    (64, 330, 60, 70), # Logo\n",
    "    #(340, 380, 160, 170), # Wheel\n",
    "    (270, 355, 25, 50),\n",
    "]\n",
    "\n",
    "# Digits\n",
    "register_roi = (164, 157, 450, 71)\n",
    "num_digits = 8\n",
    "digit_width = 40\n",
    "digits_num_commas = 3\n",
    "digits_num_integers = 4\n",
    "\"\"\""
   ]
  },
  {
   "cell_type": "markdown",
   "id": "touched-brazil",
   "metadata": {},
   "source": [
    "## Generate config"
   ]
  },
  {
   "cell_type": "code",
   "execution_count": 49,
   "id": "fifth-medline",
   "metadata": {},
   "outputs": [],
   "source": [
    "config = {\n",
    "    \"name\": meter_model,\n",
    "    \"templates\": [],\n",
    "    \"register\": {\"digits\": [] },\n",
    "}\n",
    "\n",
    "for i, (x0, y0, dx, dy) in enumerate(template_rois):\n",
    "    template_img = img[y0:y0+dy, x0:x0+dx]\n",
    "    template_img_file = \"template_%d.jpg\" % (i)\n",
    "    cv2.imwrite(os.path.join(meter_model_path, template_img_file), template_img)\n",
    "    config[\"templates\"].append({\n",
    "        \"roi\": [x0, y0, dx, dy],\n",
    "        \"file\": template_img_file,\n",
    "    })\n",
    "\n",
    "x0, y0, dx, dy = register_roi\n",
    "config[\"register\"][\"roi\"] = list(register_roi)\n",
    "for i in range(num_digits):\n",
    "    spacing_x = (dx - num_digits * digit_width) / (num_digits - 1)\n",
    "    nx0 = int(x0 + i * (digit_width + spacing_x))\n",
    "    config[\"register\"][\"digits\"].append({\n",
    "        \"roi\": [nx0, y0, digit_width, dy],\n",
    "        \"multiplier\": 10.0 ** (digits_num_integers - i)\n",
    "    })"
   ]
  },
  {
   "cell_type": "markdown",
   "id": "closing-potato",
   "metadata": {},
   "source": [
    "## Visualize"
   ]
  },
  {
   "cell_type": "code",
   "execution_count": 50,
   "id": "radical-invitation",
   "metadata": {},
   "outputs": [
    {
     "data": {
      "application/vnd.jupyter.widget-view+json": {
       "model_id": "c7dc96835a3b4a9498b6e81f19cab6e0",
       "version_major": 2,
       "version_minor": 0
      },
      "text/plain": [
       "Canvas(toolbar=Toolbar(toolitems=[('Home', 'Reset original view', 'home', 'home'), ('Back', 'Back to previous …"
      ]
     },
     "metadata": {},
     "output_type": "display_data"
    }
   ],
   "source": [
    "plt.figure(figsize=(6, 4))\n",
    "plt.imshow(cv2.cvtColor(img, cv2.COLOR_BGR2RGB))\n",
    "\n",
    "# Templates\n",
    "for template_conf in config[\"templates\"]:\n",
    "    x0, y0, dx, dy = template_conf[\"roi\"]\n",
    "    template_img = img[y0:y0+dy, x0:x0+dx]\n",
    "    plt.gca().add_patch(patches.Rectangle((x0 - 0.5, y0 - 0.5), dx, dy, linewidth=1.0, ls=\"-\", edgecolor=\"b\", alpha=1.0, facecolor=\"none\"))\n",
    "    \n",
    "# Register\n",
    "x0, y0, dx, dy = config[\"register\"][\"roi\"]\n",
    "plt.gca().add_patch(patches.Rectangle((x0 - 0.5, y0 - 0.5), dx, dy, linewidth=1.0, ls=\"-\", edgecolor='r', alpha=0.5, facecolor='none'))\n",
    "for digit_conf in config[\"register\"][\"digits\"]:\n",
    "    x0, y0, dx, dy = digit_conf[\"roi\"]\n",
    "    plt.gca().add_patch(patches.Rectangle((x0 - 0.5, y0 - 0.5), dx, dy, linewidth=0.5, ls=\"--\", edgecolor='r', alpha=1.0, facecolor='none'))\n",
    "plt.tight_layout()"
   ]
  },
  {
   "cell_type": "markdown",
   "id": "pediatric-solomon",
   "metadata": {},
   "source": [
    "# Save config"
   ]
  },
  {
   "cell_type": "code",
   "execution_count": 51,
   "id": "clean-lucas",
   "metadata": {},
   "outputs": [],
   "source": [
    "with open(os.path.join(meter_model_path, \"meter_config.json\"), \"w\") as f:\n",
    "    json.dump(config, f, indent=4)"
   ]
  },
  {
   "cell_type": "code",
   "execution_count": null,
   "id": "greater-chorus",
   "metadata": {},
   "outputs": [],
   "source": []
  }
 ],
 "metadata": {
  "kernelspec": {
   "display_name": "Python 3",
   "language": "python",
   "name": "python3"
  },
  "language_info": {
   "codemirror_mode": {
    "name": "ipython",
    "version": 3
   },
   "file_extension": ".py",
   "mimetype": "text/x-python",
   "name": "python",
   "nbconvert_exporter": "python",
   "pygments_lexer": "ipython3",
   "version": "3.8.5"
  }
 },
 "nbformat": 4,
 "nbformat_minor": 5
}
