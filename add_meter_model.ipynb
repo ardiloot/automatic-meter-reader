{
 "cells": [
  {
   "cell_type": "code",
   "execution_count": 1,
   "id": "subsequent-compensation",
   "metadata": {},
   "outputs": [],
   "source": [
    "%matplotlib widget\n",
    "import cv2\n",
    "import os\n",
    "import json\n",
    "import numpy as np\n",
    "from matplotlib import pyplot as plt\n",
    "import matplotlib.patches as patches"
   ]
  },
  {
   "cell_type": "markdown",
   "id": "supported-beach",
   "metadata": {},
   "source": [
    "## Manually rotate image (\"horizon\" correction)"
   ]
  },
  {
   "cell_type": "code",
   "execution_count": 2,
   "id": "understood-license",
   "metadata": {},
   "outputs": [
    {
     "output_type": "display_data",
     "data": {
      "text/plain": "Canvas(toolbar=Toolbar(toolitems=[('Home', 'Reset original view', 'home', 'home'), ('Back', 'Back to previous …",
      "application/vnd.jupyter.widget-view+json": {
       "version_major": 2,
       "version_minor": 0,
       "model_id": "846fafe60c0241b7857a3d8e91c35510"
      }
     },
     "metadata": {}
    }
   ],
   "source": [
    "meter_model = \"wehrle\"\n",
    "camera_model = \"espcam_120_deg\"\n",
    "\n",
    "meter_model_path = os.path.join(\"automatic_meter_reader\", \"meter_models\", meter_model)\n",
    "if not os.path.isdir(meter_model_path):\n",
    "    os.mkdir(meter_model_path)\n",
    "\n",
    "img_file = r\"raw_images/cold_water_meter/cold_water_meter_20210208_224659.jpg\"\n",
    "rotation_angle_deg = -6\n",
    "\n",
    "def rotate_image(image, angle):\n",
    "    image_center = tuple((np.array(image.shape[1::-1]) - 1.0) / 2)\n",
    "    rot_mat = cv2.getRotationMatrix2D(image_center, angle, 1.0)\n",
    "    result = cv2.warpAffine(image, rot_mat, image.shape[1::-1], flags=cv2.INTER_LINEAR)\n",
    "    return result\n",
    "\n",
    "with open(os.path.join(\"automatic_meter_reader\", \"cameras\", \"%s.json\" % (camera_model)), \"r\") as f:\n",
    "    camcalib = json.load(f)\n",
    "camera_matrix = np.resize(np.array(camcalib[\"camera_matrix\"]), (3, 3))\n",
    "distortion_coefs = np.resize(np.array(camcalib[\"distortion_coefs\"]), (1, -1))\n",
    "new_camera_matrix = np.resize(np.array(camcalib[\"new_camera_matrix\"]), (3, 3))\n",
    "\n",
    "img = cv2.imread(img_file)\n",
    "img = cv2.undistort(img, camera_matrix, distortion_coefs, None, new_camera_matrix)\n",
    "img = rotate_image(img, rotation_angle_deg)\n",
    "\n",
    "plt.figure(figsize=(6, 4))\n",
    "plt.imshow(cv2.cvtColor(img, cv2.COLOR_BGR2RGB))\n",
    "plt.axhline(215, lw=0.5, ls=\"--\", c=\"r\")\n",
    "plt.tight_layout();"
   ]
  },
  {
   "cell_type": "markdown",
   "id": "fancy-festival",
   "metadata": {},
   "source": [
    "# Define templates, register and dial ROIs"
   ]
  },
  {
   "cell_type": "code",
   "execution_count": 3,
   "id": "atomic-flower",
   "metadata": {},
   "outputs": [],
   "source": [
    "# Templates ROIs\n",
    "\n",
    "template_rois = [\n",
    "    (657, 220, 55, 38), # m3\n",
    "    (84, 310, 60, 70), # Logo\n",
    "    (340, 380, 160, 170), # Wheel\n",
    "]\n",
    "\n",
    "# Digits\n",
    "register_roi = (178, 150, 420, 65)\n",
    "num_digits = 8\n",
    "digit_width = 40\n",
    "digits_num_commas = 3\n",
    "digits_num_integers = 4"
   ]
  },
  {
   "cell_type": "markdown",
   "id": "paperback-compatibility",
   "metadata": {},
   "source": [
    "## Generate config"
   ]
  },
  {
   "cell_type": "code",
   "execution_count": 4,
   "id": "reflected-check",
   "metadata": {},
   "outputs": [],
   "source": [
    "config = {\n",
    "    \"name\": meter_model,\n",
    "    \"templates\": [],\n",
    "    \"register\": {\"digits\": [] },\n",
    "}\n",
    "\n",
    "for i, (x0, y0, dx, dy) in enumerate(template_rois):\n",
    "    template_img = img[y0:y0+dy, x0:x0+dx]\n",
    "    template_img_file = \"template_%d.jpg\" % (i)\n",
    "    cv2.imwrite(os.path.join(meter_model_path, template_img_file), template_img)\n",
    "    config[\"templates\"].append({\n",
    "        \"roi\": [x0, y0, dx, dy],\n",
    "        \"file\": template_img_file,\n",
    "    })\n",
    "\n",
    "x0, y0, dx, dy = register_roi\n",
    "config[\"register\"][\"roi\"] = list(register_roi)\n",
    "for i in range(num_digits):\n",
    "    spacing_x = (dx - num_digits * digit_width) / (num_digits - 1)\n",
    "    nx0 = int(x0 + i * (digit_width + spacing_x))\n",
    "    config[\"register\"][\"digits\"].append({\n",
    "        \"roi\": [nx0, y0, digit_width, dy],\n",
    "        \"multiplier\": 10.0 ** (digits_num_integers - i)\n",
    "    })"
   ]
  },
  {
   "cell_type": "markdown",
   "id": "consolidated-petersburg",
   "metadata": {},
   "source": [
    "## Visualize"
   ]
  },
  {
   "cell_type": "code",
   "execution_count": 5,
   "id": "joined-stone",
   "metadata": {},
   "outputs": [
    {
     "output_type": "display_data",
     "data": {
      "text/plain": "Canvas(toolbar=Toolbar(toolitems=[('Home', 'Reset original view', 'home', 'home'), ('Back', 'Back to previous …",
      "application/vnd.jupyter.widget-view+json": {
       "version_major": 2,
       "version_minor": 0,
       "model_id": "7416a78c95bf46e491654fa7aed996d7"
      }
     },
     "metadata": {}
    }
   ],
   "source": [
    "plt.figure(figsize=(6, 4))\n",
    "plt.imshow(cv2.cvtColor(img, cv2.COLOR_BGR2RGB))\n",
    "\n",
    "# Templates\n",
    "for template_conf in config[\"templates\"]:\n",
    "    x0, y0, dx, dy = template_conf[\"roi\"]\n",
    "    template_img = img[y0:y0+dy, x0:x0+dx]\n",
    "    plt.gca().add_patch(patches.Rectangle((x0 - 0.5, y0 - 0.5), dx, dy, linewidth=1.0, ls=\"-\", edgecolor=\"b\", alpha=1.0, facecolor=\"none\"))\n",
    "    \n",
    "# Register\n",
    "x0, y0, dx, dy = config[\"register\"][\"roi\"]\n",
    "plt.gca().add_patch(patches.Rectangle((x0 - 0.5, y0 - 0.5), dx, dy, linewidth=1.0, ls=\"-\", edgecolor='r', alpha=0.5, facecolor='none'))\n",
    "for digit_conf in config[\"register\"][\"digits\"]:\n",
    "    x0, y0, dx, dy = digit_conf[\"roi\"]\n",
    "    plt.gca().add_patch(patches.Rectangle((x0 - 0.5, y0 - 0.5), dx, dy, linewidth=0.5, ls=\"--\", edgecolor='r', alpha=1.0, facecolor='none'))\n",
    "plt.tight_layout()"
   ]
  },
  {
   "cell_type": "markdown",
   "id": "above-disease",
   "metadata": {},
   "source": [
    "# Save config"
   ]
  },
  {
   "cell_type": "code",
   "execution_count": 64,
   "id": "recovered-watch",
   "metadata": {},
   "outputs": [],
   "source": [
    "with open(os.path.join(meter_model_path, \"meter_config.json\"), \"w\") as f:\n",
    "    json.dump(config, f, indent=4)"
   ]
  },
  {
   "cell_type": "code",
   "execution_count": null,
   "id": "bearing-swing",
   "metadata": {},
   "outputs": [],
   "source": []
  }
 ],
 "metadata": {
  "kernelspec": {
   "display_name": "Python 3",
   "language": "python",
   "name": "python3"
  },
  "language_info": {
   "codemirror_mode": {
    "name": "ipython",
    "version": 3
   },
   "file_extension": ".py",
   "mimetype": "text/x-python",
   "name": "python",
   "nbconvert_exporter": "python",
   "pygments_lexer": "ipython3",
   "version": "3.8.5-final"
  }
 },
 "nbformat": 4,
 "nbformat_minor": 5
}